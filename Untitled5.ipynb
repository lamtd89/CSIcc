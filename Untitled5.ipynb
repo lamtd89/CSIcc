{
  "nbformat": 4,
  "nbformat_minor": 0,
  "metadata": {
    "colab": {
      "provenance": []
    },
    "kernelspec": {
      "name": "python3",
      "display_name": "Python 3"
    },
    "language_info": {
      "name": "python"
    }
  },
  "cells": [
    {
      "cell_type": "code",
      "execution_count": null,
      "metadata": {
        "id": "Tsk8lAwBViC6"
      },
      "outputs": [],
      "source": [
        "def binary_search(arr, low, high, target):\n",
        "  if high >= low:\n",
        "    mid = (high + low) // 2\n",
        "    if arr[mid] == target:\n",
        "      return mid\n",
        "    elif arr[mid] > target:\n",
        "      return binary_search(arr, low, mid - 1, target)\n",
        "    else:\n",
        "      return binary_search(arr, mid + 1, high, target)\n",
        "  else:\n",
        "    return -1\n"
      ]
    },
    {
      "cell_type": "code",
      "source": [
        "def bubble_sort(list_):\n",
        "  n = len(list_)\n",
        "  for i in range(n-1):\n",
        "    for j in range(n-i-1):\n",
        "      if list_[j] > list_[j+1]:\n",
        "        list_[j], list_[j+1] = list_[j+1], list_[j]"
      ],
      "metadata": {
        "id": "bhGDprw4YP-e"
      },
      "execution_count": null,
      "outputs": []
    },
    {
      "cell_type": "code",
      "source": [
        "def interchange_sort(arr):\n",
        "  n = len(arr)\n",
        "  for i in range(n - 1):\n",
        "    for j in range(i + 1, n):\n",
        "      if arr[i] > arr[j]:\n",
        "        arr[i], arr[j] = arr[j], arr[i]\n"
      ],
      "metadata": {
        "id": "xajccZLSYaRS"
      },
      "execution_count": null,
      "outputs": []
    },
    {
      "cell_type": "code",
      "source": [
        "def insertion_sort(arr):\n",
        "    for i in range(1, len(arr)):\n",
        "        key = arr[i]\n",
        "        j = i - 1\n",
        "        while j >= 0 and key < arr[j]:\n",
        "            arr[j + 1] = arr[j]\n",
        "            j -= 1\n",
        "        arr[j + 1] = key"
      ],
      "metadata": {
        "id": "h5fYVbVOcDSD"
      },
      "execution_count": null,
      "outputs": []
    },
    {
      "cell_type": "code",
      "source": [
        "def selection_sort(arr):\n",
        "    n = len(arr)\n",
        "    for i in range(n):\n",
        "        min_idx = i\n",
        "        for j in range(i+1, n):\n",
        "            if arr[min_idx] > arr[j]:\n",
        "                min_idx = j\n",
        "        arr[i], arr[min_idx] = arr[min_idx], arr[i]"
      ],
      "metadata": {
        "id": "TdUFgj1ygEPy"
      },
      "execution_count": null,
      "outputs": []
    },
    {
      "cell_type": "code",
      "source": [
        "def quick_sort(arr):\n",
        "  if len(arr) < 2:\n",
        "    return arr\n",
        "  else:\n",
        "    pivot = arr[0]\n",
        "    less = [i for i in arr[1:] if i <= pivot]\n",
        "    greater = [i for i in arr[1:] if i > pivot]\n",
        "    return quick_sort(less) + [pivot] + quick_sort(greater)"
      ],
      "metadata": {
        "id": "Q2XNyfLyiUpl"
      },
      "execution_count": null,
      "outputs": []
    }
  ]
}